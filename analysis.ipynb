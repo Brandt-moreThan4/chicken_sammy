{
 "cells": [
  {
   "cell_type": "code",
   "execution_count": 65,
   "metadata": {},
   "outputs": [],
   "source": [
    "from pathlib import Path\n",
    "import json\n",
    "import pandas as pd\n",
    "from datetime import datetime\n",
    "from typing import List\n",
    "import streamlit as st\n",
    "import plotly.express as px\n",
    "import matplotlib.pyplot as plt\n",
    "import seaborn as sns\n",
    "plt.style.use('ggplot')"
   ]
  },
  {
   "cell_type": "code",
   "execution_count": 2,
   "metadata": {},
   "outputs": [
    {
     "data": {
      "text/html": [
       "<div>\n",
       "<style scoped>\n",
       "    .dataframe tbody tr th:only-of-type {\n",
       "        vertical-align: middle;\n",
       "    }\n",
       "\n",
       "    .dataframe tbody tr th {\n",
       "        vertical-align: top;\n",
       "    }\n",
       "\n",
       "    .dataframe thead th {\n",
       "        text-align: right;\n",
       "    }\n",
       "</style>\n",
       "<table border=\"1\" class=\"dataframe\">\n",
       "  <thead>\n",
       "    <tr style=\"text-align: right;\">\n",
       "      <th></th>\n",
       "      <th>attachments</th>\n",
       "      <th>avatar_url</th>\n",
       "      <th>created_at</th>\n",
       "      <th>favorited_by</th>\n",
       "      <th>group_id</th>\n",
       "      <th>id</th>\n",
       "      <th>name</th>\n",
       "      <th>sender_id</th>\n",
       "      <th>sender_type</th>\n",
       "      <th>source_guid</th>\n",
       "      <th>system</th>\n",
       "      <th>text</th>\n",
       "      <th>user_id</th>\n",
       "      <th>platform</th>\n",
       "      <th>pinned_at</th>\n",
       "      <th>pinned_by</th>\n",
       "      <th>event</th>\n",
       "      <th>deleted_at</th>\n",
       "      <th>deletion_actor</th>\n",
       "    </tr>\n",
       "  </thead>\n",
       "  <tbody>\n",
       "    <tr>\n",
       "      <th>0</th>\n",
       "      <td>[]</td>\n",
       "      <td>https://i.groupme.com/1024x1024.jpeg.f5cfae0ce...</td>\n",
       "      <td>1668819447</td>\n",
       "      <td>[]</td>\n",
       "      <td>53526472</td>\n",
       "      <td>166881944707556885</td>\n",
       "      <td>Joe Stassi</td>\n",
       "      <td>22089390</td>\n",
       "      <td>user</td>\n",
       "      <td>234392C6-8301-4FD5-AEB4-C8677CA0A802</td>\n",
       "      <td>False</td>\n",
       "      <td>thanks my man!!</td>\n",
       "      <td>22089390</td>\n",
       "      <td>gm</td>\n",
       "      <td>None</td>\n",
       "      <td></td>\n",
       "      <td>NaN</td>\n",
       "      <td>NaN</td>\n",
       "      <td>NaN</td>\n",
       "    </tr>\n",
       "    <tr>\n",
       "      <th>1</th>\n",
       "      <td>[{'loci': [[26, 11]], 'type': 'mentions', 'use...</td>\n",
       "      <td>https://i.groupme.com/960x960.jpeg.018a82eaf3b...</td>\n",
       "      <td>1668819169</td>\n",
       "      <td>[10529832, 19901671, 22089390]</td>\n",
       "      <td>53526472</td>\n",
       "      <td>166881916925796885</td>\n",
       "      <td>J Money</td>\n",
       "      <td>12609853</td>\n",
       "      <td>user</td>\n",
       "      <td>1AF1E93C-E144-4FED-ACD6-86A33526E37B</td>\n",
       "      <td>False</td>\n",
       "      <td>Happy bday to a fine gent @Joe Stassi</td>\n",
       "      <td>12609853</td>\n",
       "      <td>gm</td>\n",
       "      <td>None</td>\n",
       "      <td></td>\n",
       "      <td>NaN</td>\n",
       "      <td>NaN</td>\n",
       "      <td>NaN</td>\n",
       "    </tr>\n",
       "  </tbody>\n",
       "</table>\n",
       "</div>"
      ],
      "text/plain": [
       "                                         attachments  \\\n",
       "0                                                 []   \n",
       "1  [{'loci': [[26, 11]], 'type': 'mentions', 'use...   \n",
       "\n",
       "                                          avatar_url  created_at  \\\n",
       "0  https://i.groupme.com/1024x1024.jpeg.f5cfae0ce...  1668819447   \n",
       "1  https://i.groupme.com/960x960.jpeg.018a82eaf3b...  1668819169   \n",
       "\n",
       "                     favorited_by  group_id                  id        name  \\\n",
       "0                              []  53526472  166881944707556885  Joe Stassi   \n",
       "1  [10529832, 19901671, 22089390]  53526472  166881916925796885     J Money   \n",
       "\n",
       "  sender_id sender_type                           source_guid  system  \\\n",
       "0  22089390        user  234392C6-8301-4FD5-AEB4-C8677CA0A802   False   \n",
       "1  12609853        user  1AF1E93C-E144-4FED-ACD6-86A33526E37B   False   \n",
       "\n",
       "                                     text   user_id platform pinned_at  \\\n",
       "0                         thanks my man!!  22089390       gm      None   \n",
       "1  Happy bday to a fine gent @Joe Stassi   12609853       gm      None   \n",
       "\n",
       "  pinned_by event  deleted_at deletion_actor  \n",
       "0             NaN         NaN            NaN  \n",
       "1             NaN         NaN            NaN  "
      ]
     },
     "execution_count": 2,
     "metadata": {},
     "output_type": "execute_result"
    }
   ],
   "source": [
    "DATA_PATH = Path('data') / '53526472'\n",
    "MESSAGE_PATH = DATA_PATH / 'message.json'\n",
    "CONVO_PATH = DATA_PATH / 'conversation.json'\n",
    "\n",
    "with MESSAGE_PATH.open(encoding='utf-8') as f:\n",
    "    msg_data = json.load(f)\n",
    "    df_data_msg = pd.DataFrame(msg_data)\n",
    "\n",
    "with CONVO_PATH.open(encoding='utf-8') as f:\n",
    "    convo_data:dict = json.load(f)\n",
    "    # df_convo= pd.DataFrame(convo_data)\n",
    "df_data_msg.head(2)"
   ]
  },
  {
   "cell_type": "code",
   "execution_count": 27,
   "metadata": {},
   "outputs": [],
   "source": [
    "members:dict = convo_data['members']\n",
    "df_members = pd.DataFrame(members)\n",
    "df_members.head(3)\n",
    "id_map:pd.Series = df_members[['user_id','name']].set_index('user_id')['name']\n",
    "df_id_map = df_members[['user_id','name']]"
   ]
  },
  {
   "cell_type": "code",
   "execution_count": 4,
   "metadata": {},
   "outputs": [],
   "source": [
    "# How many muted?\n",
    "# df_members[df_members.muted == True]"
   ]
  },
  {
   "cell_type": "code",
   "execution_count": 12,
   "metadata": {},
   "outputs": [],
   "source": [
    "# df_data_msg[df_data_msg.system]"
   ]
  },
  {
   "cell_type": "code",
   "execution_count": 50,
   "metadata": {},
   "outputs": [
    {
     "name": "stdout",
     "output_type": "stream",
     "text": [
      "4341\n"
     ]
    },
    {
     "data": {
      "text/html": [
       "<div>\n",
       "<style scoped>\n",
       "    .dataframe tbody tr th:only-of-type {\n",
       "        vertical-align: middle;\n",
       "    }\n",
       "\n",
       "    .dataframe tbody tr th {\n",
       "        vertical-align: top;\n",
       "    }\n",
       "\n",
       "    .dataframe thead th {\n",
       "        text-align: right;\n",
       "    }\n",
       "</style>\n",
       "<table border=\"1\" class=\"dataframe\">\n",
       "  <thead>\n",
       "    <tr style=\"text-align: right;\">\n",
       "      <th></th>\n",
       "      <th>attachments</th>\n",
       "      <th>created_at</th>\n",
       "      <th>favorited_by</th>\n",
       "      <th>name_x</th>\n",
       "      <th>sender_type</th>\n",
       "      <th>text</th>\n",
       "      <th>user_id</th>\n",
       "      <th>event</th>\n",
       "      <th>like_count</th>\n",
       "      <th>has_attachement</th>\n",
       "      <th>attachement_num</th>\n",
       "      <th>has_image</th>\n",
       "      <th>char_count</th>\n",
       "      <th>date_month</th>\n",
       "      <th>nickname</th>\n",
       "      <th>name_y</th>\n",
       "    </tr>\n",
       "  </thead>\n",
       "  <tbody>\n",
       "    <tr>\n",
       "      <th>0</th>\n",
       "      <td>[]</td>\n",
       "      <td>2022-11-19 00:57:27</td>\n",
       "      <td>[]</td>\n",
       "      <td>Joe Stassi</td>\n",
       "      <td>user</td>\n",
       "      <td>thanks my man!!</td>\n",
       "      <td>22089390</td>\n",
       "      <td>NaN</td>\n",
       "      <td>0</td>\n",
       "      <td>False</td>\n",
       "      <td>0</td>\n",
       "      <td>False</td>\n",
       "      <td>15</td>\n",
       "      <td>2022-11</td>\n",
       "      <td>Joe Stassi</td>\n",
       "      <td>Joe Stassi</td>\n",
       "    </tr>\n",
       "    <tr>\n",
       "      <th>1</th>\n",
       "      <td>[{'loci': [[26, 11]], 'type': 'mentions', 'use...</td>\n",
       "      <td>2022-11-19 00:52:49</td>\n",
       "      <td>[10529832, 19901671, 22089390]</td>\n",
       "      <td>J Money</td>\n",
       "      <td>user</td>\n",
       "      <td>Happy bday to a fine gent @Joe Stassi</td>\n",
       "      <td>12609853</td>\n",
       "      <td>NaN</td>\n",
       "      <td>3</td>\n",
       "      <td>True</td>\n",
       "      <td>1</td>\n",
       "      <td>False</td>\n",
       "      <td>38</td>\n",
       "      <td>2022-11</td>\n",
       "      <td>J Money</td>\n",
       "      <td>John Marston</td>\n",
       "    </tr>\n",
       "  </tbody>\n",
       "</table>\n",
       "</div>"
      ],
      "text/plain": [
       "                                         attachments          created_at  \\\n",
       "0                                                 [] 2022-11-19 00:57:27   \n",
       "1  [{'loci': [[26, 11]], 'type': 'mentions', 'use... 2022-11-19 00:52:49   \n",
       "\n",
       "                     favorited_by      name_x sender_type  \\\n",
       "0                              []  Joe Stassi        user   \n",
       "1  [10529832, 19901671, 22089390]     J Money        user   \n",
       "\n",
       "                                     text   user_id event  like_count  \\\n",
       "0                         thanks my man!!  22089390   NaN           0   \n",
       "1  Happy bday to a fine gent @Joe Stassi   12609853   NaN           3   \n",
       "\n",
       "   has_attachement  attachement_num  has_image char_count date_month  \\\n",
       "0            False                0      False         15    2022-11   \n",
       "1             True                1      False         38    2022-11   \n",
       "\n",
       "     nickname        name_y  \n",
       "0  Joe Stassi    Joe Stassi  \n",
       "1     J Money  John Marston  "
      ]
     },
     "execution_count": 50,
     "metadata": {},
     "output_type": "execute_result"
    }
   ],
   "source": [
    "\n",
    "def has_image(data:List[dict]) -> bool:\n",
    "    contains_image = False   \n",
    "    for dicky in data:\n",
    "       if dicky['type'] == 'image':\n",
    "           contains_image = True\n",
    "    return contains_image\n",
    "# Attachmeent ype?\n",
    "\n",
    "# print(len(df_data_msg))\n",
    "COLS_TO_KEEP = ['attachments', 'created_at', 'favorited_by', 'name',  'sender_type', 'system','text', 'user_id', 'event']\n",
    "df = df_data_msg[COLS_TO_KEEP].copy()\n",
    "df = df[df.system == False].copy() # Don't care about system messages for this analysis.\n",
    "df['created_at'] = df.created_at.apply(datetime.utcfromtimestamp)\n",
    "df['like_count'] = df.favorited_by.apply(len)\n",
    "df['has_attachement'] = df.attachments.apply( lambda x: len(x) > 0)\n",
    "df['attachement_num'] = df.attachments.apply( lambda x: len(x))\n",
    "df['has_image'] = df.attachments.apply(has_image)\n",
    "df['char_count'] = df.text.apply(lambda x: len(x) if not x is None else False )\n",
    "df['date_month'] = pd.PeriodIndex(year=df['created_at'].dt.year,month=df['created_at'].dt.month,freq='M')\n",
    "# Add date cols:\n",
    "\n",
    "df = df.merge(df_members[['user_id','nickname','name']],on='user_id',validate='m:1',how='left')\n",
    "\n",
    "COLS_TO_DROP = ['system']\n",
    "df = df.drop(columns=COLS_TO_DROP)\n",
    "\n",
    "# Get image id\n",
    "# image count\n",
    "# word count\n",
    "# Who is mentioned the most?\n",
    "# Who mentions who the most\n",
    "\n",
    "print(len(df))\n",
    "df.head(2)"
   ]
  },
  {
   "cell_type": "code",
   "execution_count": 75,
   "metadata": {},
   "outputs": [
    {
     "data": {
      "text/html": [
       "<div>\n",
       "<style scoped>\n",
       "    .dataframe tbody tr th:only-of-type {\n",
       "        vertical-align: middle;\n",
       "    }\n",
       "\n",
       "    .dataframe tbody tr th {\n",
       "        vertical-align: top;\n",
       "    }\n",
       "\n",
       "    .dataframe thead th {\n",
       "        text-align: right;\n",
       "    }\n",
       "</style>\n",
       "<table border=\"1\" class=\"dataframe\">\n",
       "  <thead>\n",
       "    <tr style=\"text-align: right;\">\n",
       "      <th></th>\n",
       "      <th>name_y</th>\n",
       "      <th>char_count</th>\n",
       "    </tr>\n",
       "  </thead>\n",
       "  <tbody>\n",
       "    <tr>\n",
       "      <th>0</th>\n",
       "      <td>Taeam Kang</td>\n",
       "      <td>389.333333</td>\n",
       "    </tr>\n",
       "    <tr>\n",
       "      <th>1</th>\n",
       "      <td>Miles Russo</td>\n",
       "      <td>384.000000</td>\n",
       "    </tr>\n",
       "    <tr>\n",
       "      <th>2</th>\n",
       "      <td>Austin Millisor</td>\n",
       "      <td>345.666667</td>\n",
       "    </tr>\n",
       "    <tr>\n",
       "      <th>3</th>\n",
       "      <td>Clayton McGee</td>\n",
       "      <td>256.333333</td>\n",
       "    </tr>\n",
       "    <tr>\n",
       "      <th>4</th>\n",
       "      <td>Terell Wilkins</td>\n",
       "      <td>225.142857</td>\n",
       "    </tr>\n",
       "    <tr>\n",
       "      <th>5</th>\n",
       "      <td>Lane Poche</td>\n",
       "      <td>203.750000</td>\n",
       "    </tr>\n",
       "    <tr>\n",
       "      <th>6</th>\n",
       "      <td>Nick Baldwin</td>\n",
       "      <td>191.142857</td>\n",
       "    </tr>\n",
       "    <tr>\n",
       "      <th>7</th>\n",
       "      <td>Andrew Searles</td>\n",
       "      <td>172.909091</td>\n",
       "    </tr>\n",
       "    <tr>\n",
       "      <th>8</th>\n",
       "      <td>Nic Brooksher</td>\n",
       "      <td>168.417910</td>\n",
       "    </tr>\n",
       "    <tr>\n",
       "      <th>9</th>\n",
       "      <td>Diego Matus</td>\n",
       "      <td>164.420000</td>\n",
       "    </tr>\n",
       "  </tbody>\n",
       "</table>\n",
       "</div>"
      ],
      "text/plain": [
       "            name_y  char_count\n",
       "0       Taeam Kang  389.333333\n",
       "1      Miles Russo  384.000000\n",
       "2  Austin Millisor  345.666667\n",
       "3    Clayton McGee  256.333333\n",
       "4   Terell Wilkins  225.142857\n",
       "5       Lane Poche  203.750000\n",
       "6     Nick Baldwin  191.142857\n",
       "7   Andrew Searles  172.909091\n",
       "8    Nic Brooksher  168.417910\n",
       "9      Diego Matus  164.420000"
      ]
     },
     "execution_count": 75,
     "metadata": {},
     "output_type": "execute_result"
    }
   ],
   "source": [
    "d = df.groupby('name_y')['char_count'].mean().sort_values(ascending=False).to_frame().iloc[:10].reset_index()\n",
    "d\n",
    "fig = px.bar(d,x='name_y',y='char_count')"
   ]
  },
  {
   "cell_type": "code",
   "execution_count": 29,
   "metadata": {},
   "outputs": [
    {
     "data": {
      "text/plain": [
       "[{'loci': [[0, 12]], 'type': 'mentions', 'user_ids': ['32644422']}]"
      ]
     },
     "execution_count": 29,
     "metadata": {},
     "output_type": "execute_result"
    }
   ],
   "source": [
    "df[(~df.has_image) & (df.has_attachement)].iloc[2]['attachments']"
   ]
  },
  {
   "cell_type": "code",
   "execution_count": 67,
   "metadata": {},
   "outputs": [
    {
     "data": {
      "text/plain": [
       "name_y\n",
       "Michael Hubbell       910\n",
       "Sam Chastain          479\n",
       "John Marston          455\n",
       "Joe Cretini           343\n",
       "Mary Dicharry         247\n",
       "Taylor Stirling       245\n",
       "Matthew Ruiz          210\n",
       "Brennan Major         196\n",
       "Jaxson Pinard         114\n",
       "Jordi Osuna           114\n",
       "Matt Morales          109\n",
       "Sam Wetzel            100\n",
       "Joe Stassi             97\n",
       "Adam Henderson         96\n",
       "Matthew Hubbell        86\n",
       "Nic Brooksher          67\n",
       "Pierce Hill            55\n",
       "Diego Matus            50\n",
       "Paul Cobler            39\n",
       "Stallion Green         37\n",
       "Ethan Barbin           33\n",
       "William Delaune        26\n",
       "Matt Comeaux           21\n",
       "Graham Vogt            21\n",
       "Matt Wallace           18\n",
       "Christian Nunley       18\n",
       "Connor Hurd            16\n",
       "Easton hollis          14\n",
       "James Finn             12\n",
       "Andrew Searles         11\n",
       "Reid Upthegrove        11\n",
       "Dalton Major           10\n",
       "Gregory Roy             9\n",
       "Matthew Crapanzano      9\n",
       "Nick Baldwin            7\n",
       "Michael Ruiz            7\n",
       "Terell Wilkins          7\n",
       "Clayton McGee           6\n",
       "Zach Roubein            4\n",
       "Lane Poche              4\n",
       "Taeam Kang              3\n",
       "Austin Millisor         3\n",
       "Ryan Calzavara          3\n",
       "Ben Walker              2\n",
       "Ryan Estep              2\n",
       "Wasef Atiya             2\n",
       "Miles Russo             2\n",
       "Blayde Bott             1\n",
       "Name: created_at, dtype: int64"
      ]
     },
     "execution_count": 67,
     "metadata": {},
     "output_type": "execute_result"
    }
   ],
   "source": [
    "df.groupby('name_y')['created_at'].count().sort_values(ascending=False)"
   ]
  },
  {
   "cell_type": "code",
   "execution_count": 56,
   "metadata": {},
   "outputs": [
    {
     "data": {
      "text/plain": [
       "[{'type': 'image',\n",
       "  'url': 'https://i.groupme.com/992x744.jpeg.6596b885bcaa4a0f8a5e9282d21f6495'},\n",
       " {'type': 'image',\n",
       "  'url': 'https://i.groupme.com/1000x1332.jpeg.5e4b23bb3b75432caf554e0e33aa17c4'}]"
      ]
     },
     "execution_count": 56,
     "metadata": {},
     "output_type": "execute_result"
    }
   ],
   "source": [
    "df[df.has_attachement == True]\n",
    "df[df.attachement_num > 1].iloc[0]['attachments']"
   ]
  },
  {
   "cell_type": "code",
   "execution_count": 42,
   "metadata": {},
   "outputs": [
    {
     "data": {
      "text/plain": [
       "[{'loci': [[26, 11]], 'type': 'mentions', 'user_ids': ['22089390']}]"
      ]
     },
     "execution_count": 42,
     "metadata": {},
     "output_type": "execute_result"
    }
   ],
   "source": [
    "df.iloc[1]['attachments']"
   ]
  },
  {
   "cell_type": "code",
   "execution_count": 40,
   "metadata": {},
   "outputs": [
    {
     "data": {
      "text/plain": [
       "53526472    4465\n",
       "Name: group_id, dtype: int64"
      ]
     },
     "execution_count": 40,
     "metadata": {},
     "output_type": "execute_result"
    }
   ],
   "source": [
    "# There are some messages that aren't from a personL\n",
    "# df[df.sender_type != 'user']\n",
    "df.group_id.value_counts()"
   ]
  },
  {
   "cell_type": "code",
   "execution_count": null,
   "metadata": {},
   "outputs": [],
   "source": []
  },
  {
   "cell_type": "code",
   "execution_count": null,
   "metadata": {},
   "outputs": [],
   "source": []
  },
  {
   "cell_type": "code",
   "execution_count": null,
   "metadata": {},
   "outputs": [],
   "source": []
  }
 ],
 "metadata": {
  "kernelspec": {
   "display_name": "Python 3.10.0 64-bit",
   "language": "python",
   "name": "python3"
  },
  "language_info": {
   "codemirror_mode": {
    "name": "ipython",
    "version": 3
   },
   "file_extension": ".py",
   "mimetype": "text/x-python",
   "name": "python",
   "nbconvert_exporter": "python",
   "pygments_lexer": "ipython3",
   "version": "3.10.0"
  },
  "orig_nbformat": 4,
  "vscode": {
   "interpreter": {
    "hash": "afb734500600fd355917ca529030176ea0ca205570884b88f2f6f7d791fd3fbe"
   }
  }
 },
 "nbformat": 4,
 "nbformat_minor": 2
}
